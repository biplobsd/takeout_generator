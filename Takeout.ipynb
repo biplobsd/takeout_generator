{
  "nbformat": 4,
  "nbformat_minor": 0,
  "metadata": {
    "colab": {
      "provenance": [],
      "authorship_tag": "ABX9TyPJcy4+vFn0L2c0s8sGAKLU",
      "include_colab_link": true
    },
    "kernelspec": {
      "name": "python3",
      "display_name": "Python 3"
    },
    "language_info": {
      "name": "python"
    }
  },
  "cells": [
    {
      "cell_type": "markdown",
      "metadata": {
        "id": "view-in-github",
        "colab_type": "text"
      },
      "source": [
        "<a href=\"https://colab.research.google.com/github/biplobsd/takeout_generator/blob/main/Takeout.ipynb\" target=\"_parent\"><img src=\"https://colab.research.google.com/assets/colab-badge.svg\" alt=\"Open In Colab\"/></a>"
      ]
    },
    {
      "cell_type": "code",
      "execution_count": null,
      "metadata": {
        "colab": {
          "base_uri": "https://localhost:8080/"
        },
        "cellView": "form",
        "id": "KmTpGM6jj9go",
        "outputId": "a8443c80-806d-4f5c-d9c3-f6d989eadb72"
      },
      "outputs": [
        {
          "output_type": "stream",
          "name": "stdout",
          "text": [
            "Done:  output.zip\n"
          ]
        }
      ],
      "source": [
        "#@markdown <br><center><img src='https://raw.githubusercontent.com/TeamNewPipe/NewPipe/dev/assets/new_pipe_icon_5.png' height=\"100\" alt=\"NewPipe\"/></center>\n",
        "#@markdown <center><h3><a href=\"https://github.com/TeamNewPipe/NewPipe\">NewPipe</a></h3></center>\n",
        "#@markdown <center>NewPipe newpipe_subscriptions.json to Google Takeout subscriptions.csv zip structure for import into <a href=\"https://github.com/biplobsd/yst?tab=readme-ov-file#google-takeout\">YST extension</a></center><br>\n",
        "\n",
        "JSON_PATH = \"/content/newpipe_subscriptions_202312311345.json\" # @param {type:\"string\"}\n",
        "\n",
        "import json, csv, zipfile, os\n",
        "\n",
        "# Load JSON data\n",
        "with open(JSON_PATH, 'r') as json_file:\n",
        "  data = json.load(json_file)\n",
        "\n",
        "# CSV file name\n",
        "csv_filename = \"subscriptions.csv\"\n",
        "\n",
        "# Folder structure\n",
        "folder_structure = \"Takeout/YouTube and YouTube Music/subscriptions/\"\n",
        "\n",
        "# Create the CSV file in the specified folder\n",
        "csv_path = os.path.join(folder_structure, csv_filename)\n",
        "\n",
        "# Create the directories if they don't exist\n",
        "os.makedirs(folder_structure, exist_ok=True)\n",
        "\n",
        "# Open CSV file for writing\n",
        "with open(csv_path, 'w', newline='') as csvfile:\n",
        "\n",
        "    # Create CSV writer\n",
        "    csv_writer = csv.writer(csvfile)\n",
        "\n",
        "    # Write header\n",
        "    csv_writer.writerow([\"Channel Id\",\"Channel Url\",\"Channel Title\"])\n",
        "\n",
        "    # Write data\n",
        "    for subscription in data.get(\"subscriptions\", []):\n",
        "        csv_writer.writerow([subscription.get(\"url\", \"\")[32:],\n",
        "                             subscription.get(\"url\", \"\"),\n",
        "                             subscription.get(\"name\", \"\")])\n",
        "\n",
        "# ZIP file name\n",
        "zip_filename = \"output.zip\"\n",
        "\n",
        "# Create a ZIP file with the desired folder structure\n",
        "with zipfile.ZipFile(zip_filename, 'w') as zipf:\n",
        "    zipf.write(csv_path)\n",
        "\n",
        "print(\"Done:\", zip_filename)"
      ]
    }
  ]
}